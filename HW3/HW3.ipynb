{
 "cells": [
  {
   "cell_type": "code",
   "execution_count": 12,
   "metadata": {
    "collapsed": false
   },
   "outputs": [
    {
     "name": "stderr",
     "output_type": "stream",
     "text": [
      "C:\\Users\\Jitendra Savanur\\Anaconda3\\lib\\site-packages\\IPython\\core\\interactiveshell.py:2705: DtypeWarning: Columns (49) have mixed types. Specify dtype option on import or set low_memory=False.\n",
      "  interactivity=interactivity, compiler=compiler, result=result)\n"
     ]
    }
   ],
   "source": [
    "#Team members: \n",
    "#Jitendra Savanur - 111491676 (jitendra.savanur@stonybrook.edu)\n",
    "#Chaitanya Kalantri - 111446728 (chaitanya.kalantri@stonybrook.edu)\n",
    "#Abhinav Jain - 111495982 (abhinav.jain@stonybrook.edu)\n",
    "\n",
    "import numpy as np\n",
    "import pandas as pd\n",
    "\n",
    "data_2017 = pd.read_csv(\"C:\\\\Users\\\\Jitendra Savanur\\\\Documents\\\\Data Science Fundamentals\\\\HomeWorks\\\\HW3\\\\latest data\\\\properties_2017.csv\")"
   ]
  },
  {
   "cell_type": "code",
   "execution_count": 87,
   "metadata": {
    "collapsed": false
   },
   "outputs": [
    {
     "data": {
      "text/plain": [
       "Index(['parcelid', 'airconditioningtypeid', 'architecturalstyletypeid',\n",
       "       'basementsqft', 'bathroomcnt', 'bedroomcnt', 'buildingclasstypeid',\n",
       "       'buildingqualitytypeid', 'calculatedbathnbr', 'decktypeid',\n",
       "       'finishedfloor1squarefeet', 'calculatedfinishedsquarefeet',\n",
       "       'finishedsquarefeet12', 'finishedsquarefeet13', 'finishedsquarefeet15',\n",
       "       'finishedsquarefeet50', 'finishedsquarefeet6', 'fips', 'fireplacecnt',\n",
       "       'fullbathcnt', 'garagecarcnt', 'garagetotalsqft', 'hashottuborspa',\n",
       "       'heatingorsystemtypeid', 'latitude', 'longitude', 'lotsizesquarefeet',\n",
       "       'poolcnt', 'poolsizesum', 'pooltypeid10', 'pooltypeid2', 'pooltypeid7',\n",
       "       'propertycountylandusecode', 'propertylandusetypeid',\n",
       "       'propertyzoningdesc', 'rawcensustractandblock', 'regionidcity',\n",
       "       'regionidcounty', 'regionidneighborhood', 'regionidzip', 'roomcnt',\n",
       "       'storytypeid', 'threequarterbathnbr', 'typeconstructiontypeid',\n",
       "       'unitcnt', 'yardbuildingsqft17', 'yardbuildingsqft26', 'yearbuilt',\n",
       "       'numberofstories', 'fireplaceflag', 'structuretaxvaluedollarcnt',\n",
       "       'taxvaluedollarcnt', 'assessmentyear', 'landtaxvaluedollarcnt',\n",
       "       'taxamount', 'taxdelinquencyflag', 'taxdelinquencyyear',\n",
       "       'censustractandblock'],\n",
       "      dtype='object')"
      ]
     },
     "execution_count": 87,
     "metadata": {},
     "output_type": "execute_result"
    }
   ],
   "source": [
    "data_2017.columns"
   ]
  },
  {
   "cell_type": "code",
   "execution_count": 186,
   "metadata": {
    "collapsed": false,
    "scrolled": false
   },
   "outputs": [
    {
     "data": {
      "text/plain": [
       "parcelid                        2985217\n",
       "bathroomcnt                     2982260\n",
       "roomcnt                         2982248\n",
       "buildingqualitytypeid           1941395\n",
       "calculatedfinishedsquarefeet    2940120\n",
       "yearbuilt                       2937384\n",
       "taxvaluedollarcnt               2950951\n",
       "taxamount                       2962465\n",
       "poolcnt                          539632\n",
       "unitcnt                         1981042\n",
       "garagecarcnt                     891008\n",
       "longitude                       2982285\n",
       "latitude                        2982285\n",
       "dtype: int64"
      ]
     },
     "execution_count": 186,
     "metadata": {},
     "output_type": "execute_result"
    }
   ],
   "source": [
    "#We shall consider the following columns for this homework\n",
    "#'parcelid',\n",
    "#'bathroomcnt'\n",
    "#'roomcnt'\n",
    "#'buildingqualitytypeid'\n",
    "#'calculatedfinishedsquarefeet'\n",
    "#'yearbuilt'\n",
    "#'taxvaluedollarcnt'\n",
    "#'taxamount'\n",
    "#'poolcnt'\n",
    "#'unitcnt'\n",
    "#'garagecarcnt'\n",
    "#'longitude'\n",
    "#'latitude'\n",
    "data_with_cols_to_consider = data_2017[['parcelid','bathroomcnt','roomcnt','buildingqualitytypeid','calculatedfinishedsquarefeet','yearbuilt','taxvaluedollarcnt','taxamount','poolcnt','unitcnt','garagecarcnt','longitude','latitude']]\n",
    "data_with_cols_to_consider.count()"
   ]
  },
  {
   "cell_type": "code",
   "execution_count": 187,
   "metadata": {
    "collapsed": false,
    "scrolled": true
   },
   "outputs": [
    {
     "name": "stderr",
     "output_type": "stream",
     "text": [
      "C:\\Users\\Jitendra Savanur\\Anaconda3\\lib\\site-packages\\pandas\\core\\generic.py:3660: SettingWithCopyWarning: \n",
      "A value is trying to be set on a copy of a slice from a DataFrame\n",
      "\n",
      "See the caveats in the documentation: http://pandas.pydata.org/pandas-docs/stable/indexing.html#indexing-view-versus-copy\n",
      "  self._update_inplace(new_data)\n"
     ]
    }
   ],
   "source": [
    "#Data cleaning:\n",
    "#We shall replace the NaN values for bathroomcnt, roomcnt, buildingqualitytypeid, yearbuilt with the column median\n",
    "data_with_cols_to_consider.bathroomcnt.fillna(data_with_cols_to_consider.bathroomcnt.median(), inplace = True)\n",
    "data_with_cols_to_consider.roomcnt.fillna(data_with_cols_to_consider.roomcnt.median(), inplace = True)\n",
    "data_with_cols_to_consider.buildingqualitytypeid.fillna(data_with_cols_to_consider.buildingqualitytypeid.median(), inplace = True)\n",
    "data_with_cols_to_consider.yearbuilt.fillna(data_with_cols_to_consider.yearbuilt.median(), inplace = True)\n",
    "\n",
    "#For calculatedfinishedsquarefeet, taxvaluedollarcnt, taxamount we replace the NaN values with the column mean\n",
    "data_with_cols_to_consider.calculatedfinishedsquarefeet.fillna(data_with_cols_to_consider.calculatedfinishedsquarefeet.mean(), inplace = True)\n",
    "data_with_cols_to_consider.taxvaluedollarcnt.fillna(data_with_cols_to_consider.taxvaluedollarcnt.mean(), inplace = True)\n",
    "data_with_cols_to_consider.taxamount.fillna(data_with_cols_to_consider.taxamount.mean(), inplace = True)\n",
    "\n",
    "#For poolcnt and garage cnt we replace NaN values with 0, considering no swimming pool\n",
    "#For unitcnt, we replace the NaN values with the mode of unitcnt column\n",
    "\n",
    "data_with_cols_to_consider.poolcnt.fillna(0, inplace = True)\n",
    "data_with_cols_to_consider.unitcnt.fillna(data_with_cols_to_consider.unitcnt.mode()[0], inplace = True)\n",
    "data_with_cols_to_consider.garagecarcnt.fillna(0, inplace = True)\n"
   ]
  },
  {
   "cell_type": "code",
   "execution_count": 188,
   "metadata": {
    "collapsed": false
   },
   "outputs": [
    {
     "data": {
      "text/plain": [
       "{'bathroomcnt': 32.0,\n",
       " 'buildingqualitytypeid': 12.0,\n",
       " 'calculatedfinishedsquarefeet': 952576.0,\n",
       " 'garagecarcnt': 25.0,\n",
       " 'latitude': 34819650.0,\n",
       " 'longitude': -117554316.0,\n",
       " 'parcelid': 169601949.0,\n",
       " 'poolcnt': 1.0,\n",
       " 'roomcnt': 96.0,\n",
       " 'taxamount': 3823175.6499999999,\n",
       " 'taxvaluedollarcnt': 319622473.0,\n",
       " 'unitcnt': 997.0,\n",
       " 'yearbuilt': 2016.0}"
      ]
     },
     "execution_count": 188,
     "metadata": {},
     "output_type": "execute_result"
    }
   ],
   "source": [
    "#Creating a dictionary of maximum values for the columns to consider.\n",
    "#We require this for the desirability function\n",
    "max_of_all_columns = data_with_cols_to_consider.max()\n",
    "max_values_dict = dict(max_of_all_columns)\n",
    "max_values_dict"
   ]
  },
  {
   "cell_type": "code",
   "execution_count": 189,
   "metadata": {
    "collapsed": false
   },
   "outputs": [
    {
     "data": {
      "text/plain": [
       "parcelid                        2985217\n",
       "bathroomcnt                     2985217\n",
       "roomcnt                         2985217\n",
       "buildingqualitytypeid           2985217\n",
       "calculatedfinishedsquarefeet    2985217\n",
       "yearbuilt                       2985217\n",
       "taxvaluedollarcnt               2985217\n",
       "taxamount                       2985217\n",
       "poolcnt                         2985217\n",
       "unitcnt                         2985217\n",
       "garagecarcnt                    2985217\n",
       "longitude                       2982285\n",
       "latitude                        2982285\n",
       "dtype: int64"
      ]
     },
     "execution_count": 189,
     "metadata": {},
     "output_type": "execute_result"
    }
   ],
   "source": [
    "data_with_cols_to_consider.count()"
   ]
  },
  {
   "cell_type": "code",
   "execution_count": 118,
   "metadata": {
    "collapsed": false,
    "scrolled": true
   },
   "outputs": [],
   "source": [
    "#We will assign weights to each of the features we are considering for scoring. More the weight,\n",
    "#more is the impact of that parameter in deciding the desirability of the house\n",
    "#We will get a final desirability score out of 100\n",
    "weights = {'bathroomcnt': 14,\n",
    " 'buildingqualitytypeid': 10,\n",
    " 'calculatedfinishedsquarefeet': 12,\n",
    " 'garagecarcnt': 10,\n",
    " 'poolcnt': 10,\n",
    " 'roomcnt': 13,\n",
    " 'taxamount': 8,\n",
    " 'taxvaluedollarcnt': 8,\n",
    " 'unitcnt': 12,\n",
    " 'yearbuilt': 3}\n",
    "\n",
    "all_scores = []\n",
    "data_with_cols_to_consider1 = data_with_cols_to_consider\n",
    "for index, row in data_with_cols_to_consider1.iterrows():\n",
    "    score = (float) ((row['bathroomcnt']*weights['bathroomcnt']/max_values_dict['bathroomcnt'])+\\\n",
    "                     (weights['buildingqualitytypeid']*(1-(row['buildingqualitytypeid']/max_values_dict['buildingqualitytypeid'])))+\\\n",
    "                     (row['calculatedfinishedsquarefeet']*weights['calculatedfinishedsquarefeet']/max_values_dict['calculatedfinishedsquarefeet'])+\\\n",
    "                     (row['garagecarcnt']*weights['garagecarcnt']/max_values_dict['garagecarcnt'])+\\\n",
    "                     (row['poolcnt']*weights['poolcnt']/max_values_dict['poolcnt'])+\\\n",
    "                     (row['roomcnt']*weights['roomcnt']/max_values_dict['roomcnt'])+\\\n",
    "                     (row['taxamount']*weights['taxamount']/max_values_dict['taxamount'])+\\\n",
    "                     (row['taxvaluedollarcnt']*weights['taxvaluedollarcnt']/max_values_dict['taxvaluedollarcnt'])+\\\n",
    "                     (row['unitcnt']*weights['unitcnt']/max_values_dict['unitcnt'])+\\\n",
    "                     (row['yearbuilt']*weights['yearbuilt']/max_values_dict['yearbuilt']))\n",
    "    all_scores.append(score)\n",
    "data_with_cols_to_consider1 = data_with_cols_to_consider1.assign(desirability_score = all_scores) \n",
    "data_with_cols_to_consider1 = data_with_cols_to_consider1.sort_values(['desirability_score'], ascending=[False])\n",
    "data_with_cols_to_consider1.to_csv(\"C:\\\\Users\\\\Jitendra Savanur\\\\Documents\\\\Data Science Fundamentals\\\\HomeWorks\\\\HW3\\\\latest data\\\\with_desirability_scores.csv\", index = False)"
   ]
  },
  {
   "cell_type": "code",
   "execution_count": 119,
   "metadata": {
    "collapsed": false
   },
   "outputs": [
    {
     "data": {
      "text/html": [
       "<div>\n",
       "<style>\n",
       "    .dataframe thead tr:only-child th {\n",
       "        text-align: right;\n",
       "    }\n",
       "\n",
       "    .dataframe thead th {\n",
       "        text-align: left;\n",
       "    }\n",
       "\n",
       "    .dataframe tbody tr th {\n",
       "        vertical-align: top;\n",
       "    }\n",
       "</style>\n",
       "<table border=\"1\" class=\"dataframe\">\n",
       "  <thead>\n",
       "    <tr style=\"text-align: right;\">\n",
       "      <th></th>\n",
       "      <th>parcelid</th>\n",
       "      <th>bathroomcnt</th>\n",
       "      <th>roomcnt</th>\n",
       "      <th>buildingqualitytypeid</th>\n",
       "      <th>calculatedfinishedsquarefeet</th>\n",
       "      <th>yearbuilt</th>\n",
       "      <th>taxvaluedollarcnt</th>\n",
       "      <th>taxamount</th>\n",
       "      <th>poolcnt</th>\n",
       "      <th>unitcnt</th>\n",
       "      <th>garagecarcnt</th>\n",
       "      <th>desirability_score</th>\n",
       "    </tr>\n",
       "  </thead>\n",
       "  <tbody>\n",
       "    <tr>\n",
       "      <th>1252741</th>\n",
       "      <td>11984395</td>\n",
       "      <td>0.0</td>\n",
       "      <td>0.0</td>\n",
       "      <td>6.0</td>\n",
       "      <td>472363.0</td>\n",
       "      <td>2014.0</td>\n",
       "      <td>271004605.0</td>\n",
       "      <td>3277055.20</td>\n",
       "      <td>1.0</td>\n",
       "      <td>478.0</td>\n",
       "      <td>0.0</td>\n",
       "      <td>43.341199</td>\n",
       "    </tr>\n",
       "    <tr>\n",
       "      <th>462377</th>\n",
       "      <td>12560578</td>\n",
       "      <td>0.0</td>\n",
       "      <td>0.0</td>\n",
       "      <td>6.0</td>\n",
       "      <td>617114.0</td>\n",
       "      <td>2010.0</td>\n",
       "      <td>83885166.0</td>\n",
       "      <td>1030259.32</td>\n",
       "      <td>1.0</td>\n",
       "      <td>951.0</td>\n",
       "      <td>0.0</td>\n",
       "      <td>41.466880</td>\n",
       "    </tr>\n",
       "    <tr>\n",
       "      <th>1938915</th>\n",
       "      <td>11467277</td>\n",
       "      <td>0.0</td>\n",
       "      <td>0.0</td>\n",
       "      <td>6.0</td>\n",
       "      <td>522511.0</td>\n",
       "      <td>2008.0</td>\n",
       "      <td>151895087.0</td>\n",
       "      <td>1840935.06</td>\n",
       "      <td>1.0</td>\n",
       "      <td>401.0</td>\n",
       "      <td>0.0</td>\n",
       "      <td>37.050887</td>\n",
       "    </tr>\n",
       "    <tr>\n",
       "      <th>342941</th>\n",
       "      <td>11746970</td>\n",
       "      <td>0.0</td>\n",
       "      <td>0.0</td>\n",
       "      <td>6.0</td>\n",
       "      <td>520825.0</td>\n",
       "      <td>2013.0</td>\n",
       "      <td>287098486.0</td>\n",
       "      <td>3458861.12</td>\n",
       "      <td>0.0</td>\n",
       "      <td>464.0</td>\n",
       "      <td>0.0</td>\n",
       "      <td>34.564953</td>\n",
       "    </tr>\n",
       "    <tr>\n",
       "      <th>254641</th>\n",
       "      <td>17284931</td>\n",
       "      <td>8.5</td>\n",
       "      <td>16.0</td>\n",
       "      <td>6.0</td>\n",
       "      <td>12451.0</td>\n",
       "      <td>1996.0</td>\n",
       "      <td>5334922.0</td>\n",
       "      <td>56903.60</td>\n",
       "      <td>1.0</td>\n",
       "      <td>1.0</td>\n",
       "      <td>25.0</td>\n",
       "      <td>34.277143</td>\n",
       "    </tr>\n",
       "    <tr>\n",
       "      <th>2296330</th>\n",
       "      <td>11645396</td>\n",
       "      <td>32.0</td>\n",
       "      <td>0.0</td>\n",
       "      <td>6.0</td>\n",
       "      <td>39170.0</td>\n",
       "      <td>2009.0</td>\n",
       "      <td>31038350.0</td>\n",
       "      <td>372142.72</td>\n",
       "      <td>1.0</td>\n",
       "      <td>4.0</td>\n",
       "      <td>0.0</td>\n",
       "      <td>34.086753</td>\n",
       "    </tr>\n",
       "    <tr>\n",
       "      <th>1041194</th>\n",
       "      <td>14324358</td>\n",
       "      <td>14.5</td>\n",
       "      <td>0.0</td>\n",
       "      <td>6.0</td>\n",
       "      <td>27100.0</td>\n",
       "      <td>2009.0</td>\n",
       "      <td>16452056.0</td>\n",
       "      <td>179778.36</td>\n",
       "      <td>1.0</td>\n",
       "      <td>1.0</td>\n",
       "      <td>20.0</td>\n",
       "      <td>33.474733</td>\n",
       "    </tr>\n",
       "    <tr>\n",
       "      <th>2456847</th>\n",
       "      <td>14088483</td>\n",
       "      <td>3.5</td>\n",
       "      <td>96.0</td>\n",
       "      <td>6.0</td>\n",
       "      <td>3273.0</td>\n",
       "      <td>2013.0</td>\n",
       "      <td>1107323.0</td>\n",
       "      <td>12463.48</td>\n",
       "      <td>1.0</td>\n",
       "      <td>1.0</td>\n",
       "      <td>2.0</td>\n",
       "      <td>33.433849</td>\n",
       "    </tr>\n",
       "    <tr>\n",
       "      <th>1429196</th>\n",
       "      <td>14324508</td>\n",
       "      <td>12.5</td>\n",
       "      <td>0.0</td>\n",
       "      <td>6.0</td>\n",
       "      <td>20327.0</td>\n",
       "      <td>1998.0</td>\n",
       "      <td>35843418.0</td>\n",
       "      <td>376550.62</td>\n",
       "      <td>1.0</td>\n",
       "      <td>1.0</td>\n",
       "      <td>19.0</td>\n",
       "      <td>32.995145</td>\n",
       "    </tr>\n",
       "  </tbody>\n",
       "</table>\n",
       "</div>"
      ],
      "text/plain": [
       "         parcelid  bathroomcnt  roomcnt  buildingqualitytypeid  \\\n",
       "1252741  11984395          0.0      0.0                    6.0   \n",
       "462377   12560578          0.0      0.0                    6.0   \n",
       "1938915  11467277          0.0      0.0                    6.0   \n",
       "342941   11746970          0.0      0.0                    6.0   \n",
       "254641   17284931          8.5     16.0                    6.0   \n",
       "2296330  11645396         32.0      0.0                    6.0   \n",
       "1041194  14324358         14.5      0.0                    6.0   \n",
       "2456847  14088483          3.5     96.0                    6.0   \n",
       "1429196  14324508         12.5      0.0                    6.0   \n",
       "\n",
       "         calculatedfinishedsquarefeet  yearbuilt  taxvaluedollarcnt  \\\n",
       "1252741                      472363.0     2014.0        271004605.0   \n",
       "462377                       617114.0     2010.0         83885166.0   \n",
       "1938915                      522511.0     2008.0        151895087.0   \n",
       "342941                       520825.0     2013.0        287098486.0   \n",
       "254641                        12451.0     1996.0          5334922.0   \n",
       "2296330                       39170.0     2009.0         31038350.0   \n",
       "1041194                       27100.0     2009.0         16452056.0   \n",
       "2456847                        3273.0     2013.0          1107323.0   \n",
       "1429196                       20327.0     1998.0         35843418.0   \n",
       "\n",
       "          taxamount  poolcnt  unitcnt  garagecarcnt  desirability_score  \n",
       "1252741  3277055.20      1.0    478.0           0.0           43.341199  \n",
       "462377   1030259.32      1.0    951.0           0.0           41.466880  \n",
       "1938915  1840935.06      1.0    401.0           0.0           37.050887  \n",
       "342941   3458861.12      0.0    464.0           0.0           34.564953  \n",
       "254641     56903.60      1.0      1.0          25.0           34.277143  \n",
       "2296330   372142.72      1.0      4.0           0.0           34.086753  \n",
       "1041194   179778.36      1.0      1.0          20.0           33.474733  \n",
       "2456847    12463.48      1.0      1.0           2.0           33.433849  \n",
       "1429196   376550.62      1.0      1.0          19.0           32.995145  "
      ]
     },
     "execution_count": 119,
     "metadata": {},
     "output_type": "execute_result"
    }
   ],
   "source": [
    "#the 10 best houses according to the scoring function\n",
    "data_with_cols_to_consider1[0:9]"
   ]
  },
  {
   "cell_type": "code",
   "execution_count": 121,
   "metadata": {
    "collapsed": false
   },
   "outputs": [
    {
     "data": {
      "text/html": [
       "<div>\n",
       "<style>\n",
       "    .dataframe thead tr:only-child th {\n",
       "        text-align: right;\n",
       "    }\n",
       "\n",
       "    .dataframe thead th {\n",
       "        text-align: left;\n",
       "    }\n",
       "\n",
       "    .dataframe tbody tr th {\n",
       "        vertical-align: top;\n",
       "    }\n",
       "</style>\n",
       "<table border=\"1\" class=\"dataframe\">\n",
       "  <thead>\n",
       "    <tr style=\"text-align: right;\">\n",
       "      <th></th>\n",
       "      <th>parcelid</th>\n",
       "      <th>bathroomcnt</th>\n",
       "      <th>roomcnt</th>\n",
       "      <th>buildingqualitytypeid</th>\n",
       "      <th>calculatedfinishedsquarefeet</th>\n",
       "      <th>yearbuilt</th>\n",
       "      <th>taxvaluedollarcnt</th>\n",
       "      <th>taxamount</th>\n",
       "      <th>poolcnt</th>\n",
       "      <th>unitcnt</th>\n",
       "      <th>garagecarcnt</th>\n",
       "      <th>desirability_score</th>\n",
       "    </tr>\n",
       "  </thead>\n",
       "  <tbody>\n",
       "    <tr>\n",
       "      <th>201747</th>\n",
       "      <td>12547065</td>\n",
       "      <td>1.0</td>\n",
       "      <td>0.0</td>\n",
       "      <td>12.0</td>\n",
       "      <td>990.0</td>\n",
       "      <td>1984.0</td>\n",
       "      <td>231741.0</td>\n",
       "      <td>2864.20</td>\n",
       "      <td>0.0</td>\n",
       "      <td>1.0</td>\n",
       "      <td>0.0</td>\n",
       "      <td>3.426182</td>\n",
       "    </tr>\n",
       "    <tr>\n",
       "      <th>22869</th>\n",
       "      <td>12547014</td>\n",
       "      <td>1.0</td>\n",
       "      <td>0.0</td>\n",
       "      <td>12.0</td>\n",
       "      <td>960.0</td>\n",
       "      <td>1984.0</td>\n",
       "      <td>203927.0</td>\n",
       "      <td>2541.33</td>\n",
       "      <td>0.0</td>\n",
       "      <td>1.0</td>\n",
       "      <td>0.0</td>\n",
       "      <td>3.424433</td>\n",
       "    </tr>\n",
       "    <tr>\n",
       "      <th>440708</th>\n",
       "      <td>12547020</td>\n",
       "      <td>1.0</td>\n",
       "      <td>0.0</td>\n",
       "      <td>12.0</td>\n",
       "      <td>940.0</td>\n",
       "      <td>1984.0</td>\n",
       "      <td>190168.0</td>\n",
       "      <td>2300.46</td>\n",
       "      <td>0.0</td>\n",
       "      <td>1.0</td>\n",
       "      <td>0.0</td>\n",
       "      <td>3.423332</td>\n",
       "    </tr>\n",
       "    <tr>\n",
       "      <th>2707016</th>\n",
       "      <td>12547024</td>\n",
       "      <td>1.0</td>\n",
       "      <td>0.0</td>\n",
       "      <td>12.0</td>\n",
       "      <td>1010.0</td>\n",
       "      <td>1984.0</td>\n",
       "      <td>129246.0</td>\n",
       "      <td>1599.01</td>\n",
       "      <td>0.0</td>\n",
       "      <td>1.0</td>\n",
       "      <td>0.0</td>\n",
       "      <td>3.421221</td>\n",
       "    </tr>\n",
       "    <tr>\n",
       "      <th>1525737</th>\n",
       "      <td>11623455</td>\n",
       "      <td>1.0</td>\n",
       "      <td>0.0</td>\n",
       "      <td>12.0</td>\n",
       "      <td>827.0</td>\n",
       "      <td>1964.0</td>\n",
       "      <td>480409.0</td>\n",
       "      <td>5807.33</td>\n",
       "      <td>0.0</td>\n",
       "      <td>1.0</td>\n",
       "      <td>0.0</td>\n",
       "      <td>3.406749</td>\n",
       "    </tr>\n",
       "    <tr>\n",
       "      <th>2777846</th>\n",
       "      <td>11623473</td>\n",
       "      <td>1.0</td>\n",
       "      <td>0.0</td>\n",
       "      <td>12.0</td>\n",
       "      <td>822.0</td>\n",
       "      <td>1964.0</td>\n",
       "      <td>350034.0</td>\n",
       "      <td>4169.81</td>\n",
       "      <td>0.0</td>\n",
       "      <td>1.0</td>\n",
       "      <td>0.0</td>\n",
       "      <td>3.399997</td>\n",
       "    </tr>\n",
       "    <tr>\n",
       "      <th>735112</th>\n",
       "      <td>11578826</td>\n",
       "      <td>0.0</td>\n",
       "      <td>0.0</td>\n",
       "      <td>12.0</td>\n",
       "      <td>5867.0</td>\n",
       "      <td>2012.0</td>\n",
       "      <td>4071152.0</td>\n",
       "      <td>47006.16</td>\n",
       "      <td>0.0</td>\n",
       "      <td>1.0</td>\n",
       "      <td>0.0</td>\n",
       "      <td>3.280252</td>\n",
       "    </tr>\n",
       "    <tr>\n",
       "      <th>168294</th>\n",
       "      <td>11579976</td>\n",
       "      <td>0.0</td>\n",
       "      <td>0.0</td>\n",
       "      <td>12.0</td>\n",
       "      <td>5936.0</td>\n",
       "      <td>2008.0</td>\n",
       "      <td>3573782.0</td>\n",
       "      <td>41439.62</td>\n",
       "      <td>0.0</td>\n",
       "      <td>1.0</td>\n",
       "      <td>0.0</td>\n",
       "      <td>3.251072</td>\n",
       "    </tr>\n",
       "    <tr>\n",
       "      <th>1416457</th>\n",
       "      <td>11683433</td>\n",
       "      <td>0.0</td>\n",
       "      <td>0.0</td>\n",
       "      <td>12.0</td>\n",
       "      <td>8308.0</td>\n",
       "      <td>1973.0</td>\n",
       "      <td>1163957.0</td>\n",
       "      <td>50101.48</td>\n",
       "      <td>0.0</td>\n",
       "      <td>1.0</td>\n",
       "      <td>0.0</td>\n",
       "      <td>3.186678</td>\n",
       "    </tr>\n",
       "  </tbody>\n",
       "</table>\n",
       "</div>"
      ],
      "text/plain": [
       "         parcelid  bathroomcnt  roomcnt  buildingqualitytypeid  \\\n",
       "201747   12547065          1.0      0.0                   12.0   \n",
       "22869    12547014          1.0      0.0                   12.0   \n",
       "440708   12547020          1.0      0.0                   12.0   \n",
       "2707016  12547024          1.0      0.0                   12.0   \n",
       "1525737  11623455          1.0      0.0                   12.0   \n",
       "2777846  11623473          1.0      0.0                   12.0   \n",
       "735112   11578826          0.0      0.0                   12.0   \n",
       "168294   11579976          0.0      0.0                   12.0   \n",
       "1416457  11683433          0.0      0.0                   12.0   \n",
       "\n",
       "         calculatedfinishedsquarefeet  yearbuilt  taxvaluedollarcnt  \\\n",
       "201747                          990.0     1984.0           231741.0   \n",
       "22869                           960.0     1984.0           203927.0   \n",
       "440708                          940.0     1984.0           190168.0   \n",
       "2707016                        1010.0     1984.0           129246.0   \n",
       "1525737                         827.0     1964.0           480409.0   \n",
       "2777846                         822.0     1964.0           350034.0   \n",
       "735112                         5867.0     2012.0          4071152.0   \n",
       "168294                         5936.0     2008.0          3573782.0   \n",
       "1416457                        8308.0     1973.0          1163957.0   \n",
       "\n",
       "         taxamount  poolcnt  unitcnt  garagecarcnt  desirability_score  \n",
       "201747     2864.20      0.0      1.0           0.0            3.426182  \n",
       "22869      2541.33      0.0      1.0           0.0            3.424433  \n",
       "440708     2300.46      0.0      1.0           0.0            3.423332  \n",
       "2707016    1599.01      0.0      1.0           0.0            3.421221  \n",
       "1525737    5807.33      0.0      1.0           0.0            3.406749  \n",
       "2777846    4169.81      0.0      1.0           0.0            3.399997  \n",
       "735112    47006.16      0.0      1.0           0.0            3.280252  \n",
       "168294    41439.62      0.0      1.0           0.0            3.251072  \n",
       "1416457   50101.48      0.0      1.0           0.0            3.186678  "
      ]
     },
     "execution_count": 121,
     "metadata": {},
     "output_type": "execute_result"
    }
   ],
   "source": [
    "#The 10 worst houses according to scoring function\n",
    "data_with_cols_to_consider1[-10:-1]"
   ]
  },
  {
   "cell_type": "code",
   "execution_count": 153,
   "metadata": {
    "collapsed": false
   },
   "outputs": [],
   "source": [
    "data_with_cols_to_consider1.describe().to_csv(\"C:\\\\Users\\\\Jitendra Savanur\\\\Documents\\\\Data Science Fundamentals\\\\HomeWorks\\\\HW3\\\\latest data\\\\data_dscription.csv\")"
   ]
  },
  {
   "cell_type": "code",
   "execution_count": 205,
   "metadata": {
    "collapsed": false
   },
   "outputs": [],
   "source": [
    "#Pairwise distance function\n",
    "#This function gives us the distance between two property instances\n",
    "#For convenience of calculations, we scale down the values for 'calculatedfinishedsquarefeet','taxvaluedollarcnt','taxamount'\n",
    "#by taking their log values\n",
    "import math\n",
    "def getDistance(house_row_1, house_row_2):\n",
    "    columns_for_direct_distance = ['bathroomcnt','roomcnt','buildingqualitytypeid','yearbuilt','poolcnt','unitcnt','garagecarcnt']\n",
    "    columns_for_log = ['calculatedfinishedsquarefeet','taxvaluedollarcnt','taxamount']\n",
    "    distance = 0\n",
    "    for column_name in columns_for_direct_distance:\n",
    "        distance += abs(house_row_1[column_name] - house_row_2[column_name])\n",
    "    for column_name in columns_for_log:\n",
    "        distance += abs(math.log(house_row_1[column_name]) - math.log(house_row_2[column_name]))\n",
    "    distance += abs(house_row_1['latitude'] - house_row_2['latitude']) / 1000000\n",
    "    distance += abs(house_row_1['longitude'] - house_row_2['longitude']) / 1000000\n",
    "    \n",
    "    return distance"
   ]
  },
  {
   "cell_type": "code",
   "execution_count": 206,
   "metadata": {
    "collapsed": false
   },
   "outputs": [
    {
     "name": "stdout",
     "output_type": "stream",
     "text": [
      "bathroomcnt :  1.0\n",
      "roomcnt :  0.0\n",
      "buildingqualitytypeid :  1.0\n",
      "yearbuilt :  3.0\n",
      "poolcnt :  0.0\n",
      "unitcnt :  0.0\n",
      "garagecarcnt :  0.0\n",
      "calculatedfinishedsquarefeet :  0.23889190828234863\n",
      "taxvaluedollarcnt :  0.3046488024341798\n",
      "taxamount :  0.26188216775152284\n",
      "latitude:  0.002717\n",
      "longitude:  0.010935\n"
     ]
    },
    {
     "data": {
      "text/plain": [
       "5.8190748784680508"
      ]
     },
     "execution_count": 206,
     "metadata": {},
     "output_type": "execute_result"
    }
   ],
   "source": [
    "getDistance(data_with_cols_to_consider.iloc[1500000,:], data_with_cols_to_consider.iloc[1500001,:])"
   ]
  },
  {
   "cell_type": "code",
   "execution_count": 207,
   "metadata": {
    "collapsed": false
   },
   "outputs": [
    {
     "name": "stdout",
     "output_type": "stream",
     "text": [
      "Clustering done.. now plotting the data. time required:  1.0687174638112387  minutes\n"
     ]
    }
   ],
   "source": [
    "#we have used KMeans clustering to cluster the data into 10 clusters\n",
    "#We have used the desirability score as a metric to compute the distance through KMeans\n",
    "x_data = data_with_cols_to_consider1[['parcelid','desirability_score']]\n",
    "x_data = x_data\n",
    "from sklearn import cluster\n",
    "import time\n",
    "t0 = time.time()\n",
    "k=10\n",
    "kmeans = cluster.KMeans(n_clusters=k)\n",
    "kmeans.fit(x_data)\n",
    "labels = kmeans.labels_\n",
    "centroids = kmeans.cluster_centers_\n",
    "print(\"Clustering done.. now plotting the data. time required: \",(time.time()-t0)/60,\" minutes\")\n"
   ]
  },
  {
   "cell_type": "code",
   "execution_count": 210,
   "metadata": {
    "collapsed": false
   },
   "outputs": [
    {
     "data": {
      "text/plain": [
       "<matplotlib.collections.PathCollection at 0x108707f6ef0>"
      ]
     },
     "execution_count": 210,
     "metadata": {},
     "output_type": "execute_result"
    }
   ],
   "source": [
    "from matplotlib import pyplot as plt\n",
    "label = kmeans.labels_\n",
    "plt.figure()\n",
    "plt.scatter(x_data.iloc[:,0],x_data.iloc[:,1],c=label)"
   ]
  },
  {
   "cell_type": "code",
   "execution_count": 211,
   "metadata": {
    "collapsed": false
   },
   "outputs": [
    {
     "data": {
      "image/png": "[encoded data removed]",
      "text/plain": [
       "<matplotlib.figure.Figure at 0x10870613780>"
      ]
     },
     "metadata": {},
     "output_type": "display_data"
    }
   ],
   "source": [
    "plt.show()"
   ]
  },
  {
   "cell_type": "code",
   "execution_count": 415,
   "metadata": {
    "collapsed": false
   },
   "outputs": [
    {
     "name": "stdout",
     "output_type": "stream",
     "text": [
      "[1145 1908 5144  458 4131]\n"
     ]
    },
    {
     "data": {
      "image/png": "[encoded data removed]",
      "text/plain": [
       "<matplotlib.figure.Figure at 0x108e6a3cda0>"
      ]
     },
     "metadata": {},
     "output_type": "display_data"
    }
   ],
   "source": [
    "#Pairwise distance function\n",
    "#Note: the function getDistanceFcluster is same as the method getDistance above, only difference being that\n",
    "#getDistanceFcluster is suited to take numpy arrays as inputs. The distance computation logic is similar in both cases\n",
    "import math\n",
    "def getDistanceFcluster(row_list_1, row_list_2):\n",
    "    columns_for_direct_distance = ['bathroomcnt','roomcnt','buildingqualitytypeid','yearbuilt','poolcnt','unitcnt','garagecarcnt']\n",
    "    columns_for_log = ['calculatedfinishedsquarefeet','taxvaluedollarcnt','taxamount']\n",
    "    distance = 0\n",
    "    for index in range(6):\n",
    "        distance += abs(row_list_1[index] - row_list_2[index])\n",
    "    index = 7\n",
    "    while index < 10:\n",
    "        distance += abs(math.log(row_list_1[index]) - math.log(row_list_2[index]))\n",
    "        index += 1\n",
    "    \n",
    "    distance += abs(row_list_1[10] - row_list_2[11]) / 1000000\n",
    "    distance += abs(row_list_1[10] - row_list_2[11]) / 1000000\n",
    "    \n",
    "    return distance\n",
    "\n",
    "from matplotlib import pyplot\n",
    "from scipy.cluster.hierarchy import fclusterdata\n",
    "\n",
    "data_to_cluster = data_with_cols_to_consider[0:10000]\n",
    "\n",
    "array_list =[]\n",
    "for index, row in data_to_cluster.iterrows():\n",
    "    row_array_list = []\n",
    "    row_array_list.append(row.bathroomcnt)\n",
    "    row_array_list.append(row.roomcnt)\n",
    "    row_array_list.append(row.buildingqualitytypeid)\n",
    "    row_array_list.append(row.yearbuilt)\n",
    "    row_array_list.append(row.poolcnt)\n",
    "    row_array_list.append(row.unitcnt)\n",
    "    row_array_list.append(row.garagecarcnt)\n",
    "    \n",
    "    row_array_list.append(row.calculatedfinishedsquarefeet)\n",
    "    row_array_list.append(row.taxvaluedollarcnt)\n",
    "    row_array_list.append(row.taxamount)\n",
    "    \n",
    "    row_array_list.append(row.longitude)\n",
    "    row_array_list.append(row.latitude)\n",
    "    \n",
    "    row_array = np.array(row_array_list)\n",
    "    array_list.append(row_array)\n",
    "array = np.array(array_list)\n",
    "fclust = fclusterdata(array, 1.0, metric=getDistanceFcluster)\n",
    "print(fclust[0:5])\n",
    "plt.scatter(data_to_cluster[['parcelid']], fclust)\n",
    "plt.show()"
   ]
  },
  {
   "cell_type": "code",
   "execution_count": 353,
   "metadata": {
    "collapsed": false
   },
   "outputs": [
    {
     "name": "stdout",
     "output_type": "stream",
     "text": [
      "['external_data_0k_1k.csv', 'external_data_10k_11k.csv', 'external_data_11k_12k.csv', 'external_data_12k_13k.csv', 'external_data_13k_14k.csv', 'external_data_14k_15k.csv', 'external_data_15k_16k.csv', 'external_data_16k_17k.csv', 'external_data_17k_18k.csv', 'external_data_18k_19k.csv', 'external_data_19k_21k.csv', 'external_data_1k_2k.csv', 'external_data_21k_22k.csv', 'external_data_22k_23k.csv', 'external_data_23k_24k.csv', 'external_data_24k_25k.csv', 'external_data_25k_26k.csv', 'external_data_26k_27k.csv', 'external_data_27k_rest.csv', 'external_data_2k_3k.csv', 'external_data_3k_4k.csv', 'external_data_4k_5k.csv', 'external_data_5k_6k.csv', 'external_data_6k_7k.csv', 'external_data_7k_8k.csv', 'external_data_8k_9k.csv', 'external_data_9k_10k.csv']\n",
      "2982285\n"
     ]
    },
    {
     "data": {
      "text/html": [
       "<div>\n",
       "<style>\n",
       "    .dataframe thead tr:only-child th {\n",
       "        text-align: right;\n",
       "    }\n",
       "\n",
       "    .dataframe thead th {\n",
       "        text-align: left;\n",
       "    }\n",
       "\n",
       "    .dataframe tbody tr th {\n",
       "        vertical-align: top;\n",
       "    }\n",
       "</style>\n",
       "<table border=\"1\" class=\"dataframe\">\n",
       "  <thead>\n",
       "    <tr style=\"text-align: right;\">\n",
       "      <th></th>\n",
       "      <th>parcelid</th>\n",
       "      <th>density</th>\n",
       "      <th>population</th>\n",
       "      <th>averagewage</th>\n",
       "      <th>zipcode</th>\n",
       "      <th>totalwage</th>\n",
       "    </tr>\n",
       "  </thead>\n",
       "  <tbody>\n",
       "    <tr>\n",
       "      <th>0</th>\n",
       "      <td>10754147</td>\n",
       "      <td>962.883895</td>\n",
       "      <td>25709</td>\n",
       "      <td>51537.701233</td>\n",
       "      <td>91302</td>\n",
       "      <td>1.324983e+09</td>\n",
       "    </tr>\n",
       "    <tr>\n",
       "      <th>1</th>\n",
       "      <td>10759547</td>\n",
       "      <td>3405.928854</td>\n",
       "      <td>25851</td>\n",
       "      <td>39841.800820</td>\n",
       "      <td>91364</td>\n",
       "      <td>1.029950e+09</td>\n",
       "    </tr>\n",
       "    <tr>\n",
       "      <th>2</th>\n",
       "      <td>10843547</td>\n",
       "      <td>7043.458980</td>\n",
       "      <td>31766</td>\n",
       "      <td>24086.365076</td>\n",
       "      <td>90230</td>\n",
       "      <td>7.651275e+08</td>\n",
       "    </tr>\n",
       "    <tr>\n",
       "      <th>3</th>\n",
       "      <td>10859147</td>\n",
       "      <td>7108.027523</td>\n",
       "      <td>30991</td>\n",
       "      <td>32853.175438</td>\n",
       "      <td>91423</td>\n",
       "      <td>1.018153e+09</td>\n",
       "    </tr>\n",
       "    <tr>\n",
       "      <th>4</th>\n",
       "      <td>10879947</td>\n",
       "      <td>13500.900901</td>\n",
       "      <td>44958</td>\n",
       "      <td>12126.828596</td>\n",
       "      <td>91606</td>\n",
       "      <td>5.451980e+08</td>\n",
       "    </tr>\n",
       "  </tbody>\n",
       "</table>\n",
       "</div>"
      ],
      "text/plain": [
       "   parcelid       density  population   averagewage  zipcode     totalwage\n",
       "0  10754147    962.883895       25709  51537.701233    91302  1.324983e+09\n",
       "1  10759547   3405.928854       25851  39841.800820    91364  1.029950e+09\n",
       "2  10843547   7043.458980       31766  24086.365076    90230  7.651275e+08\n",
       "3  10859147   7108.027523       30991  32853.175438    91423  1.018153e+09\n",
       "4  10879947  13500.900901       44958  12126.828596    91606  5.451980e+08"
      ]
     },
     "execution_count": 353,
     "metadata": {},
     "output_type": "execute_result"
    }
   ],
   "source": [
    "#External data merging\n",
    "#We have identified certain parameters like, density of population, total population, average wage, etc.\n",
    "#based on longitude and latitude\n",
    "#We obtained this data through uszipcode library available in Python.\n",
    "#To fetch information for 100,000 pairs of longitude and latitude,\n",
    "#it took us around 30 minutes on Mac and around 50 minutes on Windows \n",
    "#We have created csv files with the parcelid as the primary key and the above mentioned features\n",
    "#obtained for the longitudes and latitudes of each parcelid\n",
    "import os\n",
    "external_data_file_names = os.listdir(\"C:\\\\Users\\\\Jitendra Savanur\\\\Documents\\\\Data Science Fundamentals\\\\HomeWorks\\\\HW3\\\\latest data\\\\data_with_external_data\")\n",
    "print(external_data_file_names)\n",
    "external_data_dfs = []\n",
    "for file_name in external_data_file_names:\n",
    "    file_name = file_name.replace(\"'\",\"\")\n",
    "    file_path = \"C:\\\\\\\\Users\\\\\\\\Jitendra Savanur\\\\\\\\Documents\\\\\\\\Data Science Fundamentals\\\\\\\\HomeWorks\\\\\\\\HW3\\\\\\\\latest data\\\\\\\\data_with_external_data\\\\\\\\\"+file_name\n",
    "    #print(file_path)\n",
    "    external_data_dfs.append(pd.read_csv(file_path))\n",
    "    #break\n",
    "len(external_data_dfs)\n",
    "\n",
    "external_data_df_all = pd.concat(external_data_dfs)\n",
    "print(len(external_data_df_all))\n",
    "external_data_df_all.head()"
   ]
  },
  {
   "cell_type": "code",
   "execution_count": 354,
   "metadata": {
    "collapsed": false
   },
   "outputs": [
    {
     "name": "stdout",
     "output_type": "stream",
     "text": [
      "2982285\n"
     ]
    }
   ],
   "source": [
    "#Now we will merge our data to consider for the analysis with the external data\n",
    "data_with_external_data = pd.merge(data_with_cols_to_consider, external_data_df_all, on='parcelid')\n",
    "data_with_external_data.columns\n",
    "data_with_external_data.head()\n",
    "print(len(data_with_external_data))"
   ]
  },
  {
   "cell_type": "code",
   "execution_count": 355,
   "metadata": {
    "collapsed": false
   },
   "outputs": [
    {
     "data": {
      "text/html": [
       "<div>\n",
       "<style>\n",
       "    .dataframe thead tr:only-child th {\n",
       "        text-align: right;\n",
       "    }\n",
       "\n",
       "    .dataframe thead th {\n",
       "        text-align: left;\n",
       "    }\n",
       "\n",
       "    .dataframe tbody tr th {\n",
       "        vertical-align: top;\n",
       "    }\n",
       "</style>\n",
       "<table border=\"1\" class=\"dataframe\">\n",
       "  <thead>\n",
       "    <tr style=\"text-align: right;\">\n",
       "      <th></th>\n",
       "      <th>parcelid</th>\n",
       "      <th>logerror</th>\n",
       "      <th>transactiondate</th>\n",
       "      <th>bathroomcnt</th>\n",
       "      <th>roomcnt</th>\n",
       "      <th>buildingqualitytypeid</th>\n",
       "      <th>calculatedfinishedsquarefeet</th>\n",
       "      <th>yearbuilt</th>\n",
       "      <th>taxvaluedollarcnt</th>\n",
       "      <th>taxamount</th>\n",
       "      <th>poolcnt</th>\n",
       "      <th>unitcnt</th>\n",
       "      <th>garagecarcnt</th>\n",
       "      <th>longitude</th>\n",
       "      <th>latitude</th>\n",
       "      <th>density</th>\n",
       "      <th>population</th>\n",
       "      <th>averagewage</th>\n",
       "      <th>zipcode</th>\n",
       "      <th>totalwage</th>\n",
       "    </tr>\n",
       "  </thead>\n",
       "  <tbody>\n",
       "    <tr>\n",
       "      <th>0</th>\n",
       "      <td>11016594</td>\n",
       "      <td>0.0276</td>\n",
       "      <td>2016-01-01</td>\n",
       "      <td>2.0</td>\n",
       "      <td>0.0</td>\n",
       "      <td>8.0</td>\n",
       "      <td>1684.0</td>\n",
       "      <td>1959.0</td>\n",
       "      <td>545000.0</td>\n",
       "      <td>6735.88</td>\n",
       "      <td>0.0</td>\n",
       "      <td>1.0</td>\n",
       "      <td>0.0</td>\n",
       "      <td>-118488536.0</td>\n",
       "      <td>34280990.0</td>\n",
       "      <td>3153.382084</td>\n",
       "      <td>51747</td>\n",
       "      <td>21296.702437</td>\n",
       "      <td>91344</td>\n",
       "      <td>1.102040e+09</td>\n",
       "    </tr>\n",
       "    <tr>\n",
       "      <th>1</th>\n",
       "      <td>14366692</td>\n",
       "      <td>-0.1684</td>\n",
       "      <td>2016-01-01</td>\n",
       "      <td>3.5</td>\n",
       "      <td>0.0</td>\n",
       "      <td>6.0</td>\n",
       "      <td>2263.0</td>\n",
       "      <td>2014.0</td>\n",
       "      <td>974900.0</td>\n",
       "      <td>10153.02</td>\n",
       "      <td>0.0</td>\n",
       "      <td>1.0</td>\n",
       "      <td>2.0</td>\n",
       "      <td>-117677556.0</td>\n",
       "      <td>33668120.0</td>\n",
       "      <td>6216.596639</td>\n",
       "      <td>59182</td>\n",
       "      <td>25693.683333</td>\n",
       "      <td>92630</td>\n",
       "      <td>1.520604e+09</td>\n",
       "    </tr>\n",
       "    <tr>\n",
       "      <th>2</th>\n",
       "      <td>12098116</td>\n",
       "      <td>-0.0040</td>\n",
       "      <td>2016-01-01</td>\n",
       "      <td>3.0</td>\n",
       "      <td>0.0</td>\n",
       "      <td>8.0</td>\n",
       "      <td>2217.0</td>\n",
       "      <td>1940.0</td>\n",
       "      <td>989500.0</td>\n",
       "      <td>11484.48</td>\n",
       "      <td>0.0</td>\n",
       "      <td>1.0</td>\n",
       "      <td>0.0</td>\n",
       "      <td>-118175032.0</td>\n",
       "      <td>34136312.0</td>\n",
       "      <td>3049.864499</td>\n",
       "      <td>11254</td>\n",
       "      <td>47317.709081</td>\n",
       "      <td>91105</td>\n",
       "      <td>5.325135e+08</td>\n",
       "    </tr>\n",
       "    <tr>\n",
       "      <th>3</th>\n",
       "      <td>12643413</td>\n",
       "      <td>0.0218</td>\n",
       "      <td>2016-01-02</td>\n",
       "      <td>2.0</td>\n",
       "      <td>0.0</td>\n",
       "      <td>7.0</td>\n",
       "      <td>839.0</td>\n",
       "      <td>1987.0</td>\n",
       "      <td>248613.0</td>\n",
       "      <td>3048.74</td>\n",
       "      <td>0.0</td>\n",
       "      <td>1.0</td>\n",
       "      <td>0.0</td>\n",
       "      <td>-118309000.0</td>\n",
       "      <td>33755800.0</td>\n",
       "      <td>6138.081395</td>\n",
       "      <td>21115</td>\n",
       "      <td>25806.898603</td>\n",
       "      <td>90732</td>\n",
       "      <td>5.449127e+08</td>\n",
       "    </tr>\n",
       "    <tr>\n",
       "      <th>4</th>\n",
       "      <td>14432541</td>\n",
       "      <td>-0.0050</td>\n",
       "      <td>2016-01-02</td>\n",
       "      <td>2.5</td>\n",
       "      <td>8.0</td>\n",
       "      <td>6.0</td>\n",
       "      <td>2283.0</td>\n",
       "      <td>1981.0</td>\n",
       "      <td>441177.0</td>\n",
       "      <td>5488.96</td>\n",
       "      <td>1.0</td>\n",
       "      <td>1.0</td>\n",
       "      <td>2.0</td>\n",
       "      <td>-117700234.0</td>\n",
       "      <td>33485643.0</td>\n",
       "      <td>5060.117878</td>\n",
       "      <td>25756</td>\n",
       "      <td>30723.228141</td>\n",
       "      <td>92629</td>\n",
       "      <td>7.913075e+08</td>\n",
       "    </tr>\n",
       "  </tbody>\n",
       "</table>\n",
       "</div>"
      ],
      "text/plain": [
       "   parcelid  logerror transactiondate  bathroomcnt  roomcnt  \\\n",
       "0  11016594    0.0276      2016-01-01          2.0      0.0   \n",
       "1  14366692   -0.1684      2016-01-01          3.5      0.0   \n",
       "2  12098116   -0.0040      2016-01-01          3.0      0.0   \n",
       "3  12643413    0.0218      2016-01-02          2.0      0.0   \n",
       "4  14432541   -0.0050      2016-01-02          2.5      8.0   \n",
       "\n",
       "   buildingqualitytypeid  calculatedfinishedsquarefeet  yearbuilt  \\\n",
       "0                    8.0                        1684.0     1959.0   \n",
       "1                    6.0                        2263.0     2014.0   \n",
       "2                    8.0                        2217.0     1940.0   \n",
       "3                    7.0                         839.0     1987.0   \n",
       "4                    6.0                        2283.0     1981.0   \n",
       "\n",
       "   taxvaluedollarcnt  taxamount  poolcnt  unitcnt  garagecarcnt    longitude  \\\n",
       "0           545000.0    6735.88      0.0      1.0           0.0 -118488536.0   \n",
       "1           974900.0   10153.02      0.0      1.0           2.0 -117677556.0   \n",
       "2           989500.0   11484.48      0.0      1.0           0.0 -118175032.0   \n",
       "3           248613.0    3048.74      0.0      1.0           0.0 -118309000.0   \n",
       "4           441177.0    5488.96      1.0      1.0           2.0 -117700234.0   \n",
       "\n",
       "     latitude      density  population   averagewage  zipcode     totalwage  \n",
       "0  34280990.0  3153.382084       51747  21296.702437    91344  1.102040e+09  \n",
       "1  33668120.0  6216.596639       59182  25693.683333    92630  1.520604e+09  \n",
       "2  34136312.0  3049.864499       11254  47317.709081    91105  5.325135e+08  \n",
       "3  33755800.0  6138.081395       21115  25806.898603    90732  5.449127e+08  \n",
       "4  33485643.0  5060.117878       25756  30723.228141    92629  7.913075e+08  "
      ]
     },
     "execution_count": 355,
     "metadata": {},
     "output_type": "execute_result"
    }
   ],
   "source": [
    "training_data_2016 = pd.read_csv(\"C:\\\\Users\\\\Jitendra Savanur\\\\Documents\\\\Data Science Fundamentals\\\\HomeWorks\\\\HW3\\\\latest data\\\\train_2016_v2.csv\")\n",
    "training_data_with_all_params_2016 = pd.merge(training_data_2016, data_with_external_data, on = 'parcelid')\n",
    "training_data_with_all_params_2016.head()"
   ]
  },
  {
   "cell_type": "code",
   "execution_count": 356,
   "metadata": {
    "collapsed": false
   },
   "outputs": [
    {
     "data": {
      "text/html": [
       "<div>\n",
       "<style>\n",
       "    .dataframe thead tr:only-child th {\n",
       "        text-align: right;\n",
       "    }\n",
       "\n",
       "    .dataframe thead th {\n",
       "        text-align: left;\n",
       "    }\n",
       "\n",
       "    .dataframe tbody tr th {\n",
       "        vertical-align: top;\n",
       "    }\n",
       "</style>\n",
       "<table border=\"1\" class=\"dataframe\">\n",
       "  <thead>\n",
       "    <tr style=\"text-align: right;\">\n",
       "      <th></th>\n",
       "      <th>parcelid</th>\n",
       "      <th>logerror</th>\n",
       "      <th>transactiondate</th>\n",
       "      <th>bathroomcnt</th>\n",
       "      <th>roomcnt</th>\n",
       "      <th>buildingqualitytypeid</th>\n",
       "      <th>calculatedfinishedsquarefeet</th>\n",
       "      <th>yearbuilt</th>\n",
       "      <th>taxvaluedollarcnt</th>\n",
       "      <th>taxamount</th>\n",
       "      <th>poolcnt</th>\n",
       "      <th>unitcnt</th>\n",
       "      <th>garagecarcnt</th>\n",
       "      <th>longitude</th>\n",
       "      <th>latitude</th>\n",
       "      <th>density</th>\n",
       "      <th>population</th>\n",
       "      <th>averagewage</th>\n",
       "      <th>zipcode</th>\n",
       "      <th>totalwage</th>\n",
       "    </tr>\n",
       "  </thead>\n",
       "  <tbody>\n",
       "    <tr>\n",
       "      <th>0</th>\n",
       "      <td>14297519</td>\n",
       "      <td>0.025595</td>\n",
       "      <td>2017-01-01</td>\n",
       "      <td>3.5</td>\n",
       "      <td>0.0</td>\n",
       "      <td>6.0</td>\n",
       "      <td>3100.0</td>\n",
       "      <td>1998.0</td>\n",
       "      <td>1023282.0</td>\n",
       "      <td>11013.72</td>\n",
       "      <td>0.0</td>\n",
       "      <td>1.0</td>\n",
       "      <td>2.0</td>\n",
       "      <td>-117869207.0</td>\n",
       "      <td>33634931.0</td>\n",
       "      <td>3565.266393</td>\n",
       "      <td>34797</td>\n",
       "      <td>45621.763198</td>\n",
       "      <td>92660</td>\n",
       "      <td>1.587500e+09</td>\n",
       "    </tr>\n",
       "    <tr>\n",
       "      <th>1</th>\n",
       "      <td>17052889</td>\n",
       "      <td>0.055619</td>\n",
       "      <td>2017-01-01</td>\n",
       "      <td>1.0</td>\n",
       "      <td>5.0</td>\n",
       "      <td>6.0</td>\n",
       "      <td>1465.0</td>\n",
       "      <td>1967.0</td>\n",
       "      <td>464000.0</td>\n",
       "      <td>5672.48</td>\n",
       "      <td>0.0</td>\n",
       "      <td>1.0</td>\n",
       "      <td>1.0</td>\n",
       "      <td>-119281531.0</td>\n",
       "      <td>34449266.0</td>\n",
       "      <td>1321.645022</td>\n",
       "      <td>6106</td>\n",
       "      <td>19964.041435</td>\n",
       "      <td>93022</td>\n",
       "      <td>1.219004e+08</td>\n",
       "    </tr>\n",
       "    <tr>\n",
       "      <th>2</th>\n",
       "      <td>14186244</td>\n",
       "      <td>0.005383</td>\n",
       "      <td>2017-01-01</td>\n",
       "      <td>2.0</td>\n",
       "      <td>6.0</td>\n",
       "      <td>6.0</td>\n",
       "      <td>1243.0</td>\n",
       "      <td>1962.0</td>\n",
       "      <td>564778.0</td>\n",
       "      <td>6488.30</td>\n",
       "      <td>1.0</td>\n",
       "      <td>1.0</td>\n",
       "      <td>2.0</td>\n",
       "      <td>-117823170.0</td>\n",
       "      <td>33886168.0</td>\n",
       "      <td>3161.167685</td>\n",
       "      <td>46564</td>\n",
       "      <td>32922.677691</td>\n",
       "      <td>92886</td>\n",
       "      <td>1.533012e+09</td>\n",
       "    </tr>\n",
       "    <tr>\n",
       "      <th>3</th>\n",
       "      <td>12177905</td>\n",
       "      <td>-0.103410</td>\n",
       "      <td>2017-01-01</td>\n",
       "      <td>3.0</td>\n",
       "      <td>0.0</td>\n",
       "      <td>8.0</td>\n",
       "      <td>2376.0</td>\n",
       "      <td>1970.0</td>\n",
       "      <td>145143.0</td>\n",
       "      <td>1777.51</td>\n",
       "      <td>1.0</td>\n",
       "      <td>1.0</td>\n",
       "      <td>0.0</td>\n",
       "      <td>-118240722.0</td>\n",
       "      <td>34245180.0</td>\n",
       "      <td>4020.662252</td>\n",
       "      <td>30356</td>\n",
       "      <td>24465.294439</td>\n",
       "      <td>91214</td>\n",
       "      <td>7.426685e+08</td>\n",
       "    </tr>\n",
       "    <tr>\n",
       "      <th>4</th>\n",
       "      <td>10887214</td>\n",
       "      <td>0.006940</td>\n",
       "      <td>2017-01-01</td>\n",
       "      <td>3.0</td>\n",
       "      <td>0.0</td>\n",
       "      <td>8.0</td>\n",
       "      <td>1312.0</td>\n",
       "      <td>1964.0</td>\n",
       "      <td>119407.0</td>\n",
       "      <td>1533.89</td>\n",
       "      <td>1.0</td>\n",
       "      <td>1.0</td>\n",
       "      <td>0.0</td>\n",
       "      <td>-118414640.0</td>\n",
       "      <td>34185120.0</td>\n",
       "      <td>11386.956522</td>\n",
       "      <td>39285</td>\n",
       "      <td>15943.788163</td>\n",
       "      <td>91401</td>\n",
       "      <td>6.263517e+08</td>\n",
       "    </tr>\n",
       "  </tbody>\n",
       "</table>\n",
       "</div>"
      ],
      "text/plain": [
       "   parcelid  logerror transactiondate  bathroomcnt  roomcnt  \\\n",
       "0  14297519  0.025595      2017-01-01          3.5      0.0   \n",
       "1  17052889  0.055619      2017-01-01          1.0      5.0   \n",
       "2  14186244  0.005383      2017-01-01          2.0      6.0   \n",
       "3  12177905 -0.103410      2017-01-01          3.0      0.0   \n",
       "4  10887214  0.006940      2017-01-01          3.0      0.0   \n",
       "\n",
       "   buildingqualitytypeid  calculatedfinishedsquarefeet  yearbuilt  \\\n",
       "0                    6.0                        3100.0     1998.0   \n",
       "1                    6.0                        1465.0     1967.0   \n",
       "2                    6.0                        1243.0     1962.0   \n",
       "3                    8.0                        2376.0     1970.0   \n",
       "4                    8.0                        1312.0     1964.0   \n",
       "\n",
       "   taxvaluedollarcnt  taxamount  poolcnt  unitcnt  garagecarcnt    longitude  \\\n",
       "0          1023282.0   11013.72      0.0      1.0           2.0 -117869207.0   \n",
       "1           464000.0    5672.48      0.0      1.0           1.0 -119281531.0   \n",
       "2           564778.0    6488.30      1.0      1.0           2.0 -117823170.0   \n",
       "3           145143.0    1777.51      1.0      1.0           0.0 -118240722.0   \n",
       "4           119407.0    1533.89      1.0      1.0           0.0 -118414640.0   \n",
       "\n",
       "     latitude       density  population   averagewage  zipcode     totalwage  \n",
       "0  33634931.0   3565.266393       34797  45621.763198    92660  1.587500e+09  \n",
       "1  34449266.0   1321.645022        6106  19964.041435    93022  1.219004e+08  \n",
       "2  33886168.0   3161.167685       46564  32922.677691    92886  1.533012e+09  \n",
       "3  34245180.0   4020.662252       30356  24465.294439    91214  7.426685e+08  \n",
       "4  34185120.0  11386.956522       39285  15943.788163    91401  6.263517e+08  "
      ]
     },
     "execution_count": 356,
     "metadata": {},
     "output_type": "execute_result"
    }
   ],
   "source": [
    "training_data_2017 = pd.read_csv(\"C:\\\\Users\\\\Jitendra Savanur\\\\Documents\\\\Data Science Fundamentals\\\\HomeWorks\\\\HW3\\\\latest data\\\\train_2017.csv\")\n",
    "training_data_with_all_params_2017 = pd.merge(training_data_2017, data_with_external_data, on = 'parcelid')\n",
    "training_data_with_all_params_2017.head()"
   ]
  },
  {
   "cell_type": "code",
   "execution_count": 357,
   "metadata": {
    "collapsed": false
   },
   "outputs": [
    {
     "data": {
      "text/plain": [
       "Index(['parcelid', 'logerror', 'transactiondate', 'bathroomcnt', 'roomcnt',\n",
       "       'buildingqualitytypeid', 'calculatedfinishedsquarefeet', 'yearbuilt',\n",
       "       'taxvaluedollarcnt', 'taxamount', 'poolcnt', 'unitcnt', 'garagecarcnt',\n",
       "       'longitude', 'latitude', 'density', 'population', 'averagewage',\n",
       "       'zipcode', 'totalwage'],\n",
       "      dtype='object')"
      ]
     },
     "execution_count": 357,
     "metadata": {},
     "output_type": "execute_result"
    }
   ],
   "source": [
    "parcel_ids_to_predict = pd.read_csv(\"C:\\\\Users\\\\Jitendra Savanur\\\\Documents\\\\Data Science Fundamentals\\\\HomeWorks\\\\HW3\\\\latest data\\\\sample_submission.csv\")\n",
    "parcel_ids_to_predict = parcel_ids_to_predict[['ParcelId']]\n",
    "submission_df = pd.DataFrame(columns = ('ParcelId','201610','201611','201612','201710','201711','201712'))\n",
    "submission_df.columns\n",
    "training_data_with_all_params_2017.columns"
   ]
  },
  {
   "cell_type": "code",
   "execution_count": 358,
   "metadata": {
    "collapsed": false
   },
   "outputs": [
    {
     "name": "stderr",
     "output_type": "stream",
     "text": [
      "C:\\Users\\Jitendra Savanur\\Anaconda3\\lib\\site-packages\\pandas\\core\\generic.py:3660: SettingWithCopyWarning: \n",
      "A value is trying to be set on a copy of a slice from a DataFrame\n",
      "\n",
      "See the caveats in the documentation: http://pandas.pydata.org/pandas-docs/stable/indexing.html#indexing-view-versus-copy\n",
      "  self._update_inplace(new_data)\n"
     ]
    },
    {
     "name": "stdout",
     "output_type": "stream",
     "text": [
      "Model created for 2016\n",
      "Model created for 2017\n"
     ]
    }
   ],
   "source": [
    "from sklearn import datasets, linear_model\n",
    "from sklearn.metrics import mean_squared_error, r2_score\n",
    "\n",
    "data_x_2016 = training_data_with_all_params_2016[['bathroomcnt', 'roomcnt',\\\n",
    "    'buildingqualitytypeid', 'calculatedfinishedsquarefeet', \\\n",
    "    'yearbuilt','taxvaluedollarcnt', 'taxamount', 'poolcnt', 'unitcnt', \\\n",
    "    'garagecarcnt','density', 'population', 'averagewage',\n",
    "       'totalwage']]\n",
    "data_x_2016 = data_x_2016.fillna(data_x_2016.median(), inplace=True)\n",
    "data_x_2017 = training_data_with_all_params_2017[['bathroomcnt', 'roomcnt',\\\n",
    "    'buildingqualitytypeid', 'calculatedfinishedsquarefeet', \\\n",
    "    'yearbuilt','taxvaluedollarcnt', 'taxamount', 'poolcnt', 'unitcnt', \\\n",
    "    'garagecarcnt','density', 'population', 'averagewage',\n",
    "       'totalwage']]\n",
    "data_x_2017 = data_x_2017.fillna(data_x_2017.median(), inplace=True)\n",
    "\n",
    "data_y_2016 = training_data_with_all_params_2016[['logerror']]\n",
    "data_y_2017 = training_data_with_all_params_2017[['logerror']]\n",
    "\n",
    "#Fitting the data into a linear regression model\n",
    "#We have used the training sets given for 2016 and 2017 respectively\n",
    "#to predict the logerror values for those years\n",
    "regr_2016 = linear_model.LinearRegression()\n",
    "regr_2016.fit(data_x_2016, data_y_2016)\n",
    "print(\"Model created for 2016\")\n",
    "regr_2017 = linear_model.LinearRegression()\n",
    "regr_2017.fit(data_x_2017, data_y_2017)\n",
    "print(\"Model created for 2017\")\n",
    "\n"
   ]
  },
  {
   "cell_type": "code",
   "execution_count": 359,
   "metadata": {
    "collapsed": false
   },
   "outputs": [
    {
     "name": "stdout",
     "output_type": "stream",
     "text": [
      "Model created for lasso regr. 2016\n",
      "Model created for lasso regr 2017\n"
     ]
    }
   ],
   "source": [
    "#Fitting the data into Lasso regression\n",
    "regr_2016_lasso = linear_model.Lasso()\n",
    "regr_2016_lasso.fit(data_x_2016, data_y_2016)\n",
    "print(\"Model created for lasso regr. 2016\")\n",
    "regr_2017_lasso = linear_model.Lasso()\n",
    "regr_2017_lasso.fit(data_x_2017, data_y_2017)\n",
    "print(\"Model created for lasso regr 2017\")"
   ]
  },
  {
   "cell_type": "code",
   "execution_count": 360,
   "metadata": {
    "collapsed": false
   },
   "outputs": [
    {
     "name": "stdout",
     "output_type": "stream",
     "text": [
      "2985217\n"
     ]
    },
    {
     "data": {
      "text/plain": [
       "2985217"
      ]
     },
     "execution_count": 360,
     "metadata": {},
     "output_type": "execute_result"
    }
   ],
   "source": [
    "print(len(parcel_ids_to_predict))\n",
    "data_for_prediction = pd.merge(parcel_ids_to_predict, data_with_external_data, left_on = 'ParcelId', right_on = 'parcelid', how='left')\n",
    "len(data_for_prediction)"
   ]
  },
  {
   "cell_type": "code",
   "execution_count": 361,
   "metadata": {
    "collapsed": false
   },
   "outputs": [
    {
     "data": {
      "text/plain": [
       "Index(['ParcelId', 'parcelid', 'bathroomcnt', 'roomcnt',\n",
       "       'buildingqualitytypeid', 'calculatedfinishedsquarefeet', 'yearbuilt',\n",
       "       'taxvaluedollarcnt', 'taxamount', 'poolcnt', 'unitcnt', 'garagecarcnt',\n",
       "       'longitude', 'latitude', 'density', 'population', 'averagewage',\n",
       "       'zipcode', 'totalwage'],\n",
       "      dtype='object')"
      ]
     },
     "execution_count": 361,
     "metadata": {},
     "output_type": "execute_result"
    }
   ],
   "source": [
    "data_for_prediction.fillna(data_for_prediction.median(), inplace=True)\n",
    "data_for_prediction.columns"
   ]
  },
  {
   "cell_type": "code",
   "execution_count": 362,
   "metadata": {
    "collapsed": false
   },
   "outputs": [
    {
     "name": "stdout",
     "output_type": "stream",
     "text": [
      "[0.013197228522487059, 0.013257657762982517, 0.90950916823234462, 0.048405942913384847, 0.014879079951456542]\n",
      "[0.014519250300444837, 0.014732498688489368, 0.84824588043334004, 0.051129464769221325, 0.016856984457603676]\n",
      "[10754147, 10759547, 10843547, 10859147, 10879947]\n",
      "2985217\n",
      "2985217\n",
      "2985217\n"
     ]
    }
   ],
   "source": [
    "data_for_prediction_without_parcelid = data_for_prediction[['bathroomcnt', 'roomcnt',\\\n",
    "       'buildingqualitytypeid', 'calculatedfinishedsquarefeet', 'yearbuilt',\\\n",
    "       'taxvaluedollarcnt', 'taxamount', 'poolcnt', 'unitcnt', 'garagecarcnt',\\\n",
    "       'density', 'population', 'averagewage','totalwage']]\n",
    "predictions_2016 = regr_2016.predict(data_for_prediction_without_parcelid)\n",
    "predictions_2016_list = [r[0] for r in predictions_2016]\n",
    "print(predictions_2016_list[0:5])\n",
    "predictions_2017 = regr_2017.predict(data_for_prediction_without_parcelid)\n",
    "predictions_2017_list = [r[0] for r in predictions_2017]\n",
    "print(predictions_2017_list[0:5])\n",
    "\n",
    "parcel_ids_to_predict_lists = parcel_ids_to_predict.values.tolist()\n",
    "parcel_ids_to_predict_list = [p[0] for p in parcel_ids_to_predict_lists]\n",
    "print(parcel_ids_to_predict_list[0:5])\n",
    "\n",
    "print(len(predictions_2016_list))\n",
    "print(len(predictions_2017_list))\n",
    "print(len(parcel_ids_to_predict_list))\n",
    "\n"
   ]
  },
  {
   "cell_type": "code",
   "execution_count": 366,
   "metadata": {
    "collapsed": false
   },
   "outputs": [
    {
     "name": "stdout",
     "output_type": "stream",
     "text": [
      "[10754147, 10759547, 10843547, 10859147, 10879947]\n",
      "2985217\n",
      "2985217\n",
      "2985217\n"
     ]
    }
   ],
   "source": [
    "predictions_2016_lasso_list = regr_2016_lasso.predict(data_for_prediction_without_parcelid)\n",
    "predictions_2017_lasso_list = regr_2017_lasso.predict(data_for_prediction_without_parcelid)\n",
    "\n",
    "parcel_ids_to_predict_lists = parcel_ids_to_predict.values.tolist()\n",
    "parcel_ids_to_predict_list = [p[0] for p in parcel_ids_to_predict_lists]\n",
    "print(parcel_ids_to_predict_list[0:5])\n",
    "\n",
    "print(len(predictions_2016_lasso_list))\n",
    "print(len(predictions_2017_lasso_list))\n",
    "print(len(parcel_ids_to_predict_list))"
   ]
  },
  {
   "cell_type": "code",
   "execution_count": 367,
   "metadata": {
    "collapsed": true
   },
   "outputs": [],
   "source": [
    "#Creation of submission file for Linear regression and Lasso regression\n",
    "submission_df_linear = pd.DataFrame({\n",
    "    'ParcelId': parcel_ids_to_predict_list,\n",
    "    '201610': predictions_2016_list,\n",
    "    '201611': predictions_2016_list,\n",
    "    '201612': predictions_2016_list,\n",
    "    '201710': predictions_2017_list,\n",
    "    '201711': predictions_2017_list,\n",
    "    '201712': predictions_2017_list\n",
    "})\n",
    "\n",
    "submission_df_lasso = pd.DataFrame({\n",
    "    'ParcelId': parcel_ids_to_predict_list,\n",
    "    '201610': predictions_2016_lasso_list,\n",
    "    '201611': predictions_2016_lasso_list,\n",
    "    '201612': predictions_2016_lasso_list,\n",
    "    '201710': predictions_2017_lasso_list,\n",
    "    '201711': predictions_2017_lasso_list,\n",
    "    '201712': predictions_2017_lasso_list\n",
    "})\n",
    "\n",
    "submission_df_linear = submission_df_linear[['ParcelId','201610','201611','201612','201710','201711','201712']]\n",
    "submission_df_lasso = submission_df_lasso[['ParcelId','201610','201611','201612','201710','201711','201712']]\n",
    "submission_df_linear.to_csv(\"C:\\\\Users\\\\Jitendra Savanur\\\\Documents\\\\Data Science Fundamentals\\\\HomeWorks\\\\HW3\\\\mypredictions_linear.csv\", index=False)\n",
    "submission_df_lasso.to_csv(\"C:\\\\Users\\\\Jitendra Savanur\\\\Documents\\\\Data Science Fundamentals\\\\HomeWorks\\\\HW3\\\\mypredictions_lasso.csv\", index=False)"
   ]
  },
  {
   "cell_type": "code",
   "execution_count": 368,
   "metadata": {
    "collapsed": false
   },
   "outputs": [
    {
     "data": {
      "text/html": [
       "<div>\n",
       "<style>\n",
       "    .dataframe thead tr:only-child th {\n",
       "        text-align: right;\n",
       "    }\n",
       "\n",
       "    .dataframe thead th {\n",
       "        text-align: left;\n",
       "    }\n",
       "\n",
       "    .dataframe tbody tr th {\n",
       "        vertical-align: top;\n",
       "    }\n",
       "</style>\n",
       "<table border=\"1\" class=\"dataframe\">\n",
       "  <thead>\n",
       "    <tr style=\"text-align: right;\">\n",
       "      <th></th>\n",
       "      <th>ParcelId</th>\n",
       "      <th>201610</th>\n",
       "      <th>201611</th>\n",
       "      <th>201612</th>\n",
       "      <th>201710</th>\n",
       "      <th>201711</th>\n",
       "      <th>201712</th>\n",
       "    </tr>\n",
       "  </thead>\n",
       "  <tbody>\n",
       "    <tr>\n",
       "      <th>0</th>\n",
       "      <td>10754147</td>\n",
       "      <td>0.013197</td>\n",
       "      <td>0.013197</td>\n",
       "      <td>0.013197</td>\n",
       "      <td>0.014519</td>\n",
       "      <td>0.014519</td>\n",
       "      <td>0.014519</td>\n",
       "    </tr>\n",
       "    <tr>\n",
       "      <th>1</th>\n",
       "      <td>10759547</td>\n",
       "      <td>0.013258</td>\n",
       "      <td>0.013258</td>\n",
       "      <td>0.013258</td>\n",
       "      <td>0.014732</td>\n",
       "      <td>0.014732</td>\n",
       "      <td>0.014732</td>\n",
       "    </tr>\n",
       "    <tr>\n",
       "      <th>2</th>\n",
       "      <td>10843547</td>\n",
       "      <td>0.909509</td>\n",
       "      <td>0.909509</td>\n",
       "      <td>0.909509</td>\n",
       "      <td>0.848246</td>\n",
       "      <td>0.848246</td>\n",
       "      <td>0.848246</td>\n",
       "    </tr>\n",
       "    <tr>\n",
       "      <th>3</th>\n",
       "      <td>10859147</td>\n",
       "      <td>0.048406</td>\n",
       "      <td>0.048406</td>\n",
       "      <td>0.048406</td>\n",
       "      <td>0.051129</td>\n",
       "      <td>0.051129</td>\n",
       "      <td>0.051129</td>\n",
       "    </tr>\n",
       "    <tr>\n",
       "      <th>4</th>\n",
       "      <td>10879947</td>\n",
       "      <td>0.014879</td>\n",
       "      <td>0.014879</td>\n",
       "      <td>0.014879</td>\n",
       "      <td>0.016857</td>\n",
       "      <td>0.016857</td>\n",
       "      <td>0.016857</td>\n",
       "    </tr>\n",
       "  </tbody>\n",
       "</table>\n",
       "</div>"
      ],
      "text/plain": [
       "   ParcelId    201610    201611    201612    201710    201711    201712\n",
       "0  10754147  0.013197  0.013197  0.013197  0.014519  0.014519  0.014519\n",
       "1  10759547  0.013258  0.013258  0.013258  0.014732  0.014732  0.014732\n",
       "2  10843547  0.909509  0.909509  0.909509  0.848246  0.848246  0.848246\n",
       "3  10859147  0.048406  0.048406  0.048406  0.051129  0.051129  0.051129\n",
       "4  10879947  0.014879  0.014879  0.014879  0.016857  0.016857  0.016857"
      ]
     },
     "execution_count": 368,
     "metadata": {},
     "output_type": "execute_result"
    }
   ],
   "source": [
    "submission_df_linear.head()"
   ]
  },
  {
   "cell_type": "code",
   "execution_count": 369,
   "metadata": {
    "collapsed": false
   },
   "outputs": [
    {
     "data": {
      "text/html": [
       "<div>\n",
       "<style>\n",
       "    .dataframe thead tr:only-child th {\n",
       "        text-align: right;\n",
       "    }\n",
       "\n",
       "    .dataframe thead th {\n",
       "        text-align: left;\n",
       "    }\n",
       "\n",
       "    .dataframe tbody tr th {\n",
       "        vertical-align: top;\n",
       "    }\n",
       "</style>\n",
       "<table border=\"1\" class=\"dataframe\">\n",
       "  <thead>\n",
       "    <tr style=\"text-align: right;\">\n",
       "      <th></th>\n",
       "      <th>ParcelId</th>\n",
       "      <th>201610</th>\n",
       "      <th>201611</th>\n",
       "      <th>201612</th>\n",
       "      <th>201710</th>\n",
       "      <th>201711</th>\n",
       "      <th>201712</th>\n",
       "    </tr>\n",
       "  </thead>\n",
       "  <tbody>\n",
       "    <tr>\n",
       "      <th>0</th>\n",
       "      <td>10754147</td>\n",
       "      <td>0.016128</td>\n",
       "      <td>0.016128</td>\n",
       "      <td>0.016128</td>\n",
       "      <td>0.014393</td>\n",
       "      <td>0.014393</td>\n",
       "      <td>0.014393</td>\n",
       "    </tr>\n",
       "    <tr>\n",
       "      <th>1</th>\n",
       "      <td>10759547</td>\n",
       "      <td>0.015572</td>\n",
       "      <td>0.015572</td>\n",
       "      <td>0.015572</td>\n",
       "      <td>0.014689</td>\n",
       "      <td>0.014689</td>\n",
       "      <td>0.014689</td>\n",
       "    </tr>\n",
       "    <tr>\n",
       "      <th>2</th>\n",
       "      <td>10843547</td>\n",
       "      <td>0.625762</td>\n",
       "      <td>0.625762</td>\n",
       "      <td>0.625762</td>\n",
       "      <td>0.616091</td>\n",
       "      <td>0.616091</td>\n",
       "      <td>0.616091</td>\n",
       "    </tr>\n",
       "    <tr>\n",
       "      <th>3</th>\n",
       "      <td>10859147</td>\n",
       "      <td>0.032909</td>\n",
       "      <td>0.032909</td>\n",
       "      <td>0.032909</td>\n",
       "      <td>0.038861</td>\n",
       "      <td>0.038861</td>\n",
       "      <td>0.038861</td>\n",
       "    </tr>\n",
       "    <tr>\n",
       "      <th>4</th>\n",
       "      <td>10879947</td>\n",
       "      <td>0.010477</td>\n",
       "      <td>0.010477</td>\n",
       "      <td>0.010477</td>\n",
       "      <td>0.015483</td>\n",
       "      <td>0.015483</td>\n",
       "      <td>0.015483</td>\n",
       "    </tr>\n",
       "  </tbody>\n",
       "</table>\n",
       "</div>"
      ],
      "text/plain": [
       "   ParcelId    201610    201611    201612    201710    201711    201712\n",
       "0  10754147  0.016128  0.016128  0.016128  0.014393  0.014393  0.014393\n",
       "1  10759547  0.015572  0.015572  0.015572  0.014689  0.014689  0.014689\n",
       "2  10843547  0.625762  0.625762  0.625762  0.616091  0.616091  0.616091\n",
       "3  10859147  0.032909  0.032909  0.032909  0.038861  0.038861  0.038861\n",
       "4  10879947  0.010477  0.010477  0.010477  0.015483  0.015483  0.015483"
      ]
     },
     "execution_count": 369,
     "metadata": {},
     "output_type": "execute_result"
    }
   ],
   "source": [
    "submission_df_lasso.head()"
   ]
  },
  {
   "cell_type": "code",
   "execution_count": 292,
   "metadata": {
    "collapsed": false
   },
   "outputs": [
    {
     "data": {
      "text/plain": [
       "90258"
      ]
     },
     "execution_count": 292,
     "metadata": {},
     "output_type": "execute_result"
    }
   ],
   "source": [
    "#Calculation of p-value\n",
    "len(training_data_with_all_params_2016)"
   ]
  },
  {
   "cell_type": "code",
   "execution_count": 351,
   "metadata": {
    "collapsed": false
   },
   "outputs": [
    {
     "name": "stderr",
     "output_type": "stream",
     "text": [
      "C:\\Users\\Jitendra Savanur\\Anaconda3\\lib\\site-packages\\pandas\\core\\generic.py:3660: SettingWithCopyWarning: \n",
      "A value is trying to be set on a copy of a slice from a DataFrame\n",
      "\n",
      "See the caveats in the documentation: http://pandas.pydata.org/pandas-docs/stable/indexing.html#indexing-view-versus-copy\n",
      "  self._update_inplace(new_data)\n"
     ]
    },
    {
     "name": "stdout",
     "output_type": "stream",
     "text": [
      "Model created for p-value computation\n",
      "Base mean squared error:  0.0381810838128\n"
     ]
    }
   ],
   "source": [
    "#p-value computation\n",
    "#We will use 72000 rows from the training set to train the model and 5000 rows to compute our p-value\n",
    "#We shall use mean squared error as a metric to compute p-value\n",
    "p_value_training = training_data_with_all_params_2017[0:72000]\n",
    "p_value_testing = training_data_with_all_params_2017[72000:]\n",
    "p_value_testing.fillna(p_value_testing.median(), inplace=True)\n",
    "\n",
    "p_value_training.columns\n",
    "p_value_training_x = p_value_training[['bathroomcnt', 'roomcnt','buildingqualitytypeid', 'calculatedfinishedsquarefeet', 'yearbuilt',\n",
    "       'taxvaluedollarcnt', 'taxamount', 'poolcnt', 'unitcnt', 'garagecarcnt','density', 'population', 'averagewage','totalwage']]\n",
    "p_value_training_x.fillna(p_value_training_x.median(), inplace=True)\n",
    "\n",
    "p_value_training_y = p_value_training[['logerror']]\n",
    "\n",
    "\n",
    "regr_p_value = linear_model.LinearRegression()\n",
    "regr_p_value.fit(p_value_training_x, p_value_training_y)\n",
    "print(\"Model created for p-value computation\")\n",
    "\n",
    "predicted_logerrors = regr_p_value.predict(p_value_testing[['bathroomcnt', 'roomcnt','buildingqualitytypeid',\n",
    "                                                            'calculatedfinishedsquarefeet', 'yearbuilt',\n",
    "                                                            'taxvaluedollarcnt', 'taxamount', 'poolcnt', 'unitcnt',\n",
    "                                                            'garagecarcnt','density', 'population',\n",
    "                                                            'averagewage','totalwage']])\n",
    "\n",
    "predicted_logerror_list = [r[0] for r in predicted_logerrors]\n",
    "actual_logerrors = p_value_testing[['logerror']].values.tolist()\n",
    "actual_logerror_list = [r[0] for r in actual_logerrors]\n",
    "base_mean_squared_error = mean_squared_error(actual_logerror_list, predicted_logerror_list)\n",
    "print(\"Base mean squared error: \",base_mean_squared_error)"
   ]
  },
  {
   "cell_type": "code",
   "execution_count": 352,
   "metadata": {
    "collapsed": false
   },
   "outputs": [
    {
     "name": "stdout",
     "output_type": "stream",
     "text": [
      "0      -      3000\n",
      "p-value for the model:  0.0\n"
     ]
    }
   ],
   "source": [
    "from random import shuffle\n",
    "\n",
    "count_greater_than_base_mse = 0\n",
    "count_smaller_than_base_mse = 0\n",
    "#print(actual_logerror_list[0:5])\n",
    "actual_logerror_list_shuffled = actual_logerror_list\n",
    "shuffle(actual_logerror_list_shuffled)\n",
    "#print(actual_logerror_list_shuffled[0:5])\n",
    "for i in range(3000):\n",
    "    current_mse = mean_squared_error(actual_logerror_list_shuffled, predicted_logerror_list)\n",
    "    #print(current_mse)\n",
    "    if current_mse < base_mean_squared_error:\n",
    "        count_smaller_than_base_mse += 1\n",
    "    else:\n",
    "        count_greater_than_base_mse  += 1\n",
    "    shuffle(actual_logerror_list_shuffled)\n",
    "    \n",
    "print(count_smaller_than_base_mse,\"     -     \",count_greater_than_base_mse)\n",
    "p_value = count_smaller_than_base_mse / (count_smaller_than_base_mse + count_greater_than_base_mse)\n",
    "print(\"p-value for the model: \",p_value)"
   ]
  },
  {
   "cell_type": "code",
   "execution_count": null,
   "metadata": {
    "collapsed": true
   },
   "outputs": [],
   "source": []
  },
  {
   "cell_type": "code",
   "execution_count": null,
   "metadata": {
    "collapsed": true
   },
   "outputs": [],
   "source": []
  }
 ],
 "metadata": {
  "anaconda-cloud": {},
  "kernelspec": {
   "display_name": "Python [conda root]",
   "language": "python",
   "name": "conda-root-py"
  },
  "language_info": {
   "codemirror_mode": {
    "name": "ipython",
    "version": 3
   },
   "file_extension": ".py",
   "mimetype": "text/x-python",
   "name": "python",
   "nbconvert_exporter": "python",
   "pygments_lexer": "ipython3",
   "version": "3.5.2"
  }
 },
 "nbformat": 4,
 "nbformat_minor": 0
}
