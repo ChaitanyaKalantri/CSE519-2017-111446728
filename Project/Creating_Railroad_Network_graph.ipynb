{
 "cells": [
  {
   "cell_type": "code",
   "execution_count": 1,
   "metadata": {
    "collapsed": true
   },
   "outputs": [],
   "source": [
    "import pandas as pd"
   ]
  },
  {
   "cell_type": "code",
   "execution_count": 6,
   "metadata": {
    "collapsed": false
   },
   "outputs": [
    {
     "name": "stderr",
     "output_type": "stream",
     "text": [
      "C:\\Users\\Jitendra Savanur\\Anaconda\\lib\\site-packages\\IPython\\core\\interactiveshell.py:2717: DtypeWarning: Columns (11,25,26,27,28,29,30) have mixed types. Specify dtype option on import or set low_memory=False.\n",
      "  interactivity=interactivity, compiler=compiler, result=result)\n"
     ]
    }
   ],
   "source": [
    "railroad_lines = pd.read_csv(\"out.csv\")\n",
    "#for index, row in railroad_lines.iterrows():\n",
    "#    print(row[\"internmediate\"])\n",
    "#    break"
   ]
  },
  {
   "cell_type": "code",
   "execution_count": 7,
   "metadata": {
    "collapsed": false,
    "scrolled": true
   },
   "outputs": [],
   "source": [
    "ND_railroad_lines = railroad_lines[railroad_lines[\"STATE\"] == \"ND\"]\n",
    "ND_railroad_lines.to_csv(\"ND_railroad_lines.csv\", index = False)"
   ]
  },
  {
   "cell_type": "code",
   "execution_count": 9,
   "metadata": {
    "collapsed": false
   },
   "outputs": [
    {
     "name": "stdout",
     "output_type": "stream",
     "text": [
      "start    2618\n",
      "end      2618\n",
      "MILES    2618\n",
      "dtype: int64\n",
      "start    2618\n",
      "end      2618\n",
      "MILES    2618\n",
      "dtype: int64\n"
     ]
    }
   ],
   "source": [
    "len(ND_railroad_lines)\n",
    "ND_railroad_lines_start_end = ND_railroad_lines[[\"start\",\"end\",\"MILES\"]]\n",
    "print(ND_railroad_lines_start_end.count())\n",
    "#len(ND_railroad_lines_0_miles)\n",
    "#ND_railroad_lines_start_end = ND_railroad_lines_start_end.drop_duplicates(subset = [\"start\",\"end\"])\n",
    "#ND_railroad_lines_start_end.MILES.fillna(0.001, inplace=True)\n",
    "print(ND_railroad_lines_start_end.count())"
   ]
  },
  {
   "cell_type": "code",
   "execution_count": 10,
   "metadata": {
    "collapsed": false
   },
   "outputs": [],
   "source": [
    "import networkx as nx\n",
    "#G=nx.Graph()\n",
    "G=nx.MultiGraph()\n",
    "for index, row in ND_railroad_lines.iterrows():\n",
    "    G.add_edge(row[\"start\"], row[\"end\"], weight = float(row[\"MILES\"]), key=row[\"OBJECTID\"])"
   ]
  },
  {
   "cell_type": "code",
   "execution_count": 11,
   "metadata": {
    "collapsed": false
   },
   "outputs": [
    {
     "data": {
      "text/plain": [
       "2618"
      ]
     },
     "execution_count": 11,
     "metadata": {},
     "output_type": "execute_result"
    }
   ],
   "source": [
    "edges_list = G.edges()\n",
    "count = 0\n",
    "for edge in edges_list:\n",
    "    count += 1\n",
    "    #print(edge)\n",
    "count"
   ]
  },
  {
   "cell_type": "code",
   "execution_count": 43,
   "metadata": {
    "collapsed": false
   },
   "outputs": [],
   "source": [
    "src = \"-100.745199039103539,46.802841590172207\"\n",
    "tgt = \"-100.723349048749952,46.791685508090929\"\n",
    "p = nx.dijkstra_path(G, source=src, target=tgt)"
   ]
  },
  {
   "cell_type": "code",
   "execution_count": 44,
   "metadata": {
    "collapsed": false
   },
   "outputs": [
    {
     "data": {
      "text/plain": [
       "5"
      ]
     },
     "execution_count": 44,
     "metadata": {},
     "output_type": "execute_result"
    }
   ],
   "source": [
    "len(p)"
   ]
  },
  {
   "cell_type": "code",
   "execution_count": 45,
   "metadata": {
    "collapsed": false
   },
   "outputs": [
    {
     "data": {
      "text/plain": [
       "['-100.745199039103539,46.802841590172207',\n",
       " '-100.744070779361195,46.798858488827527',\n",
       " '-100.741630301076,46.797498736135097',\n",
       " '-100.74101331118942,46.797209506816998',\n",
       " '-100.723349048749952,46.791685508090929']"
      ]
     },
     "execution_count": 45,
     "metadata": {},
     "output_type": "execute_result"
    }
   ],
   "source": [
    "p"
   ]
  },
  {
   "cell_type": "code",
   "execution_count": 65,
   "metadata": {
    "collapsed": false
   },
   "outputs": [
    {
     "name": "stdout",
     "output_type": "stream",
     "text": [
      "0\n",
      "start: -100.745199039103539,46.802841590172207\n",
      "-100.745627340559651,46.801271147934052;-100.745693966807636,46.800938021954629;-100.74568444915721,46.800623932825538;-100.745636639021157,46.800314079998699;-100.745541570314629,46.800115063122917;-100.745484574904808,46.799995755215917;-100.745328171925621,46.799801815963846;-100.745246628254037,46.799700702285463;-100.744951574802343,46.799415167099014;-100.744589896899271,46.799158184935109\n",
      "end: -100.744070779361195,46.798858488827527\n",
      "1\n",
      "start: -100.744070779361195,46.798858488827527\n",
      "-100.743666666840753,46.798625185920976;-100.742771989733527,46.798120739790228\n",
      "end: -100.741630301076,46.797498736135097\n",
      "2\n",
      "start: -100.741630301076,46.797498736135097\n",
      "-100.741500462178095,46.797437870901064;-100.741382611297666,46.797382625800509;-100.741311958800566,46.797349506017611\n",
      "end: -100.74101331118942,46.797209506816998\n",
      "3\n",
      "Zero paths found for same node pair. Flipping start and end and checking again.\n",
      "start: -100.74101331118942,46.797209506816998\n",
      "-100.72372408190634,46.791709418153182;-100.724365912905469,46.791750338186525;-100.72646791227983,46.791960339089016;-100.728370912360859,46.792270337810756;-100.729830910954462,46.792591338753859;-100.730735968993116,46.792837006989011;-100.731241910940923,46.792974339155862;-100.731902274184364,46.793186869767432;-100.732459910583515,46.793366338806713;-100.733682868028168,46.793828462124381;-100.733851909405047,46.793892338834816;-100.733985293953396,46.793951901801719;-100.735647909355976,46.794694338943962;-100.737482293420655,46.79555425303441;-100.73931413974465,46.796412978156809;-100.739552943388219,46.796524922872251\n",
      "end: -100.723349048749952,46.791685508090929\n"
     ]
    },
    {
     "data": {
      "text/plain": [
       "<folium.vector_layers.PolyLine at 0x221822b6e80>"
      ]
     },
     "execution_count": 65,
     "metadata": {},
     "output_type": "execute_result"
    }
   ],
   "source": [
    "import folium\n",
    "from folium.plugins import MarkerCluster\n",
    "import math\n",
    "\n",
    "ND_center = [47.5515, -101.0020]\n",
    "my_map = folium.Map(location = ND_center, zoom_start = 6)\n",
    "\n",
    "all_points = []\n",
    "i = 0\n",
    "while i < len(p) - 1:\n",
    "    print(i)\n",
    "    node = ND_railroad_lines[ND_railroad_lines[\"start\"] == p[i]]\n",
    "    node = node[node[\"end\"] == p[i + 1]]\n",
    "    node = node[node[\"MILES\"] == node[\"MILES\"].min()]\n",
    "    flip = False\n",
    "    if len(node) > 1:\n",
    "        node = node.loc[[0]]\n",
    "        #print(\"Multiple paths found for same node pair\")\n",
    "        #for index, row in node.iterrows():\n",
    "         #   print(row[\"MILES\"])\n",
    "    elif len(node) == 0:\n",
    "        print(\"Zero paths found for same node pair. Flipping start and end and checking again.\")\n",
    "        node = ND_railroad_lines[ND_railroad_lines[\"end\"] == p[i]]\n",
    "        node = node[node[\"start\"] == p[i + 1]]\n",
    "        node = node[node[\"MILES\"] == node[\"MILES\"].min()]\n",
    "        flip = True\n",
    "        #print(len(node))\n",
    "    \n",
    "    node.internmediate.fillna(\"\")\n",
    "        \n",
    "    for index, row in node.iterrows():\n",
    "        if flip == True:\n",
    "            end = row[\"start\"]\n",
    "            start = row[\"end\"]\n",
    "        else:\n",
    "            start = row[\"start\"]\n",
    "            end = row[\"end\"]\n",
    "        intermediates = row[\"internmediate\"]\n",
    "\n",
    "        #if math.isnan(intermediates):\n",
    "        #    intermediate_coords = []\n",
    "        #else:\n",
    "        try:\n",
    "            if \";\" in intermediates:\n",
    "                intermediate_coords = intermediates.split(\";\")\n",
    "            else:\n",
    "                intermediate_coords = [intermediates]\n",
    "        except TypeError:\n",
    "            intermediate_coords = []\n",
    "            \n",
    "        \n",
    "        \n",
    "        coords = []\n",
    "        coords.append(float(start.split(\",\")[1]))\n",
    "        coords.append(float(start.split(\",\")[0]))\n",
    "        #folium.Marker(coords, popup = str(row[\"OBJECTID\"])).add_to(my_map)\n",
    "        all_points.append(coords)\n",
    "        print(\"start:\",start)\n",
    "        \n",
    "        print(intermediates)\n",
    "        if flip == True:\n",
    "            intermediate_coords.reverse()\n",
    "\n",
    "        for intermediate_coord in intermediate_coords:\n",
    "            coords = []\n",
    "            coords.append(float(intermediate_coord.split(\",\")[1]))\n",
    "            coords.append(float(intermediate_coord.split(\",\")[0]))\n",
    "            #folium.Marker(coords, popup = str(row[\"OBJECTID\"])).add_to(my_map)\n",
    "            all_points.append(coords)\n",
    "        \n",
    "        coords = []\n",
    "        coords.append(float(end.split(\",\")[1]))\n",
    "        coords.append(float(end.split(\",\")[0]))\n",
    "        #folium.Marker(coords, popup = str(row[\"OBJECTID\"])).add_to(my_map)\n",
    "        all_points.append(coords)\n",
    "        print(\"end:\",end)\n",
    "    i += 1\n",
    "    \n",
    "coords = []\n",
    "coords.append(float(src.split(\",\")[1]))\n",
    "coords.append(float(src.split(\",\")[0]))\n",
    "folium.Marker(coords, popup = \"source\").add_to(my_map)\n",
    "\n",
    "coords = []\n",
    "coords.append(float(tgt.split(\",\")[1]))\n",
    "coords.append(float(tgt.split(\",\")[0]))\n",
    "folium.Marker(coords, popup = \"destination\").add_to(my_map)\n",
    "\n",
    "folium.PolyLine(all_points, color=\"red\", weight=3.0, opacity=1).add_to(my_map)\n",
    "#node0 = ND_railroad_lines[ND_railroad_lines[\"start\"] == p[0]]\n",
    "#node0 = node0[node0[\"end\"] == p[1]]"
   ]
  },
  {
   "cell_type": "code",
   "execution_count": 66,
   "metadata": {
    "collapsed": false,
    "scrolled": true
   },
   "outputs": [
    {
     "data": {
      "text/html": [
       "<div style=\"width:100%;\"><div style=\"position:relative;width:100%;height:0;padding-bottom:60%;\"><iframe src=\"data:text/html;charset=utf-8;base64,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\" style=\"position:absolute;width:100%;height:100%;left:0;top:0;border:none !important;\" allowfullscreen webkitallowfullscreen mozallowfullscreen></iframe></div></div>"
      ],
      "text/plain": [
       "<folium.folium.Map at 0x221822cabe0>"
      ]
     },
     "execution_count": 66,
     "metadata": {},
     "output_type": "execute_result"
    }
   ],
   "source": [
    "my_map"
   ]
  },
  {
   "cell_type": "code",
   "execution_count": null,
   "metadata": {
    "collapsed": true
   },
   "outputs": [],
   "source": []
  }
 ],
 "metadata": {
  "anaconda-cloud": {},
  "kernelspec": {
   "display_name": "Python [conda root]",
   "language": "python",
   "name": "conda-root-py"
  },
  "language_info": {
   "codemirror_mode": {
    "name": "ipython",
    "version": 3
   },
   "file_extension": ".py",
   "mimetype": "text/x-python",
   "name": "python",
   "nbconvert_exporter": "python",
   "pygments_lexer": "ipython3",
   "version": "3.5.2"
  }
 },
 "nbformat": 4,
 "nbformat_minor": 0
}
